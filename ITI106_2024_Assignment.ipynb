{
  "nbformat": 4,
  "nbformat_minor": 0,
  "metadata": {
    "colab": {
      "provenance": []
    },
    "kernelspec": {
      "name": "python3",
      "display_name": "Python 3"
    },
    "language_info": {
      "name": "python"
    }
  },
  "cells": [
    {
      "cell_type": "markdown",
      "source": [
        "# ANN for predicting Win/Loss"
      ],
      "metadata": {
        "id": "j_3hQzeM0-Bd"
      }
    },
    {
      "cell_type": "markdown",
      "source": [
        "This project utilizes a dataset of individual player statistics from the 2024 League of Legends World Championship to build a predictive model aimed at forecasting a player's likelihood of winning a game. The core objective is to determine whether a player's performance, as measured by key in-game metrics, can serve as a reliable indicator of their chances of securing a win. Specifically, the model focuses on three crucial statistics: Gold Difference at 15 minutes (GD@15), Creep Score Difference at 15 minutes (CSD@15), and Experience Difference at 15 minutes (XPD@15). These metrics were selected for their direct relevance to the state of the game, as they represent the player's relative advantage over their opponent in the same role. By analyzing these statistics in comparison to an opponent’s performance, the model aims to predict the player's probability of winning, providing valuable insights into the dynamics of competitive gameplay. This project leverages machine learning techniques, including a fully connected feedforward neural network, to explore how these in-game statistics influence a player’s overall success."
      ],
      "metadata": {
        "id": "tIEBn_qUEKtI"
      }
    },
    {
      "cell_type": "code",
      "source": [
        "#Import packages\n",
        "import pandas as pd\n",
        "from sklearn.model_selection import KFold, train_test_split\n",
        "import numpy as np\n",
        "from tensorflow import keras\n",
        "from tensorflow.keras import layers"
      ],
      "metadata": {
        "id": "IU_MD8VGEyXm"
      },
      "execution_count": 1,
      "outputs": []
    },
    {
      "cell_type": "markdown",
      "source": [
        "This section defines the dataset path with two options for locating the data based on storage location. If the dataset is stored in Google Drive, drive.mount('/content/drive') mounts the drive, allowing us to specify the dataset path within the Google Drive directory. Alternatively, if the dataset is uploaded directly to Colab, we set dataset_path to a local file location ('/content/player_statistics_cleaned_final.csv')."
      ],
      "metadata": {
        "id": "Utn3T24bh5nd"
      }
    },
    {
      "cell_type": "code",
      "source": [
        "from google.colab import drive\n",
        "\n",
        "# Mount Google Drive & Access your dataset\n",
        "#drive.mount('/content/drive')\n",
        "#dataset_path = '//content//drive//MyDrive//NYP AAI DATASET//player_statistics_cleaned_final.csv'\n",
        "\n",
        "# dataset if uploaded to local\n",
        "dataset_path = '//content//player_statistics_cleaned_final.csv'"
      ],
      "metadata": {
        "id": "EO6DDnbKhd4C"
      },
      "execution_count": 2,
      "outputs": []
    },
    {
      "cell_type": "markdown",
      "source": [
        " We load the dataset by reading a CSV file containing individual player statistics from the 2024 League of Legends Worlds tournament. Using pd.read_csv(dataset_path), we read the CSV file into a pandas DataFrame. This DataFrame serves as an organized data structure where each row represents a player, and each column contains a specific statistic related to the player's performance in a game, such as gold difference, creep score difference, or experience difference at 15 minutes into the game. By loading the data into a DataFrame, we benefit from pandas' extensive data handling capabilities, which allow for efficient manipulation, filtering, and analysis. To verify the data has been loaded correctly, we print the first few rows using data.head(). This command provides a preview of the data's shape and format, allowing us to confirm that the file has been read correctly and displays the intended columns and rows."
      ],
      "metadata": {
        "id": "a2UPK66phE6n"
      }
    },
    {
      "cell_type": "code",
      "source": [
        "data = pd.read_csv(dataset_path)\n",
        "\n",
        "# Print data shape for verification\n",
        "print(\"Data shape:\", data.head)"
      ],
      "metadata": {
        "id": "UMjvWzRigbHK",
        "colab": {
          "base_uri": "https://localhost:8080/"
        },
        "collapsed": true,
        "outputId": "48a51711-d622-4a4a-d994-42e58ac5d329"
      },
      "execution_count": 3,
      "outputs": [
        {
          "output_type": "stream",
          "name": "stdout",
          "text": [
            "Data shape: <bound method NDFrame.head of            TeamName PlayerName Position  Games  Win rate  KDA  Avg kills  \\\n",
            "0       Top Esports        369      Top      8     0.500  3.1        2.5   \n",
            "1         Dplus KIA     aiming      Adc      9     0.333  4.8        5.0   \n",
            "2     MAD Lions KOI     alvaro  Support      5     0.200  1.5        0.2   \n",
            "3       Team Liquid        apa      Mid     10     0.500  2.4        3.5   \n",
            "4         PSG Talon       azhi      Top      5     0.200  2.3        2.2   \n",
            "..              ...        ...      ...    ...       ...  ...        ...   \n",
            "71      LNG Esports     weiwei   Jungle      8     0.625  3.9        2.3   \n",
            "72      PaiN Gaming      wizer      Top      4     0.000  1.6        3.0   \n",
            "73        PSG Talon      woody  Support      5     0.200  3.3        1.0   \n",
            "74     Weibo Gaming     xiaohu      Mid     13     0.615  6.2        3.8   \n",
            "75  Bilibili Gaming        xun   Jungle      9     0.778  5.3        2.4   \n",
            "\n",
            "    Avg deaths  Avg assists  CSPerMin  ...  Avg VWPM  GD@15  CSD@15  XPD@15  \\\n",
            "0          2.4          4.9       7.6  ...      0.13    322       5     424   \n",
            "1          2.0          4.7      10.1  ...      0.10   -112       1      97   \n",
            "2          4.4          6.2       1.2  ...      0.49     -3       2    -256   \n",
            "3          3.2          4.2       8.7  ...      0.18    278       2     216   \n",
            "4          3.0          4.8       7.5  ...      0.18   -311     -10    -168   \n",
            "..         ...          ...       ...  ...       ...    ...     ...     ...   \n",
            "71         3.3         10.5       6.0  ...      0.32     77       7     257   \n",
            "72         3.3          2.3       8.1  ...      0.16   -319       0    -525   \n",
            "73         3.2          9.6       1.0  ...      0.56    -21       1     109   \n",
            "74         1.9          8.1       8.5  ...      0.17    221      -4    -135   \n",
            "75         2.4         10.6       6.2  ...      0.35     93       1       1   \n",
            "\n",
            "     FB %  FB Victim  Penta Kills  Solo Kills        Country  FlashKeybind  \n",
            "0   0.000      0.250            0           2          China             D  \n",
            "1   0.333      0.000            0           2    South Korea             F  \n",
            "2   0.000      0.600            0           -          Spain             D  \n",
            "3   0.400      0.000            0           3  United States             D  \n",
            "4   0.200      0.000            0           -         Taiwan             D  \n",
            "..    ...        ...          ...         ...            ...           ...  \n",
            "71  0.500      0.000            0           -          China             D  \n",
            "72  0.000      0.000            0           -    South Korea             F  \n",
            "73  0.800      0.000            0           -         Taiwan             F  \n",
            "74  0.077      0.077            0           1          China             D  \n",
            "75  0.444      0.000            0           -          China             D  \n",
            "\n",
            "[76 rows x 27 columns]>\n"
          ]
        }
      ]
    },
    {
      "cell_type": "markdown",
      "source": [
        "In this section, we process the data to set up our input features and target variable for model training. First, we create a binary target column named 'Win', where each value is 1 if the 'Win rate' of a player is greater than 0.6, and 0 otherwise. This binary classification helps simplify our prediction task, where the model will learn to identify whether a player's likelihood of winning exceeds this threshold based on key game metrics.\n",
        "\n",
        "Next, we select the input features: 'GD@15' (Gold Difference at 15 minutes), 'CSD@15' (Creep Score Difference at 15 minutes), and 'XPD@15' (Experience Difference at 15 minutes). These features represent critical in-game statistics that measure early-game advantages compared to an opponent in the same role, which can strongly influence the likelihood of winning. We assign these columns to X, our feature matrix, while the newly created 'Win' column is assigned to y, our target variable."
      ],
      "metadata": {
        "id": "Wa3tTh3lU11N"
      }
    },
    {
      "cell_type": "code",
      "source": [
        "# Create a binary target column for 'Win' (1 if 'Win rate' > 0.6, 0 otherwise)\n",
        "data['Win'] = (data['Win rate'] > 0.6).astype(int)\n",
        "\n",
        "# Select 'GD@15', 'CSD@15', and 'XPD@15' as features and 'Win' as the target\n",
        "X = data[['GD@15', 'CSD@15', 'XPD@15']]  # Selected Inputs\n",
        "y = data['Win']                          # Target"
      ],
      "metadata": {
        "id": "yKRy8Ni7VFWy"
      },
      "execution_count": 4,
      "outputs": []
    },
    {
      "cell_type": "markdown",
      "source": [
        "Since the dataset is relatively small, we use K-Fold Cross-Validation with k=5, dividing the data into 5 parts. In each iteration, the model is trained on 4 folds and tested on the remaining fold, ensuring that every data point is used for both training and testing across different rotations. This approach, facilitated by KFold(n_splits=k, shuffle=True, random_state=42), helps prevent overfitting, as the model is not exposed to the same subset during every training round, and shuffle=True randomizes the order of data points to create diverse training-test splits. Setting a random_state ensures consistent shuffling for reproducibility. The fold_accuracies list will store the accuracy for each fold, allowing us to assess the model's performance across all folds and calculate an average accuracy."
      ],
      "metadata": {
        "id": "s3tYYmaVVZVw"
      }
    },
    {
      "cell_type": "code",
      "source": [
        "# Define 10-fold cross-validation\n",
        "k = 5\n",
        "kf = KFold(n_splits=k, shuffle=True, random_state=42)\n",
        "fold_accuracies = []"
      ],
      "metadata": {
        "id": "Td38_ZofVhLU"
      },
      "execution_count": 5,
      "outputs": []
    },
    {
      "cell_type": "markdown",
      "source": [
        "This section defines a function, `create_model()`, which builds and compiles a neural network model for binary classification. The model is created using Keras' `Sequential` API, allowing layers to be added sequentially.\n",
        "\n",
        "1. **Input Layer**: The input shape is set to `(3,)`, matching the three selected features (`GD@15`, `CSD@15`, and `XPD@15`).\n",
        "2. **Hidden Layers**: The network includes two hidden layers:\n",
        "   - The first hidden layer has X neurons and uses the ReLU activation function, which introduces non-linearity to capture complex patterns in the data.\n",
        "   - The second hidden layer has X neurons, also using ReLU, further refining learned features.\n",
        "3. **Output Layer**: The output layer has a single neuron with a sigmoid activation function, outputting a probability between 0 and 1 to represent the likelihood of a win. This is ideal for binary classification tasks.\n",
        "\n",
        "After defining the structure, the model summary is printed to show layer details. The model is then compiled with the Adam optimizer, which adjusts learning rates dynamically, and uses binary cross-entropy as the loss function for evaluating binary classification performance. We also specify `accuracy` as a metric to track during training. Finally, the function returns the compiled model, ready for training."
      ],
      "metadata": {
        "id": "ZTndj_n8Vjt-"
      }
    },
    {
      "cell_type": "code",
      "source": [
        "# Define the model creation function with updated input shape\n",
        "def create_model():\n",
        "    model = keras.Sequential([\n",
        "        layers.Input(shape=(3,)),                # Input layer with 3 features\n",
        "        layers.Dense(18, activation='relu'),     # Hidden layer 1\n",
        "        layers.Dense(14, activation='relu'),      # Hidden layer 2\n",
        "        layers.Dense(1, activation='sigmoid')    # Output layer for binary classification\n",
        "    ])\n",
        "\n",
        "    # Print the model summary\n",
        "    print(model.summary())\n",
        "\n",
        "\n",
        "    model.compile(optimizer='adam', loss='binary_crossentropy', metrics=['accuracy'])\n",
        "    return model"
      ],
      "metadata": {
        "id": "3rIjsDeJYrfj"
      },
      "execution_count": 6,
      "outputs": []
    },
    {
      "cell_type": "markdown",
      "source": [
        "Here, we initialize a new instance of the model by calling create_model(). This function call sets up a fresh neural network with the architecture and parameters defined in the create_model function. Once created, we save the model's initial weights to a file named \"initial_weights.weights.h5\".\n",
        "\n",
        "Saving these initial weights allows us to reload the untrained model's weights later. This is particularly useful in cross-validation, where we train the model multiple times on different subsets of the data. By resetting the weights to their initial values for each fold, we ensure that each training iteration starts from the same baseline, providing a fair comparison across folds."
      ],
      "metadata": {
        "id": "AltDvLXcaXOh"
      }
    },
    {
      "cell_type": "code",
      "source": [
        "model = create_model()\n",
        "\n",
        "model.save_weights(\"initial_weights.weights.h5\")"
      ],
      "metadata": {
        "colab": {
          "base_uri": "https://localhost:8080/",
          "height": 255
        },
        "collapsed": true,
        "id": "MnBg5thfaZ25",
        "outputId": "69bdedbb-4f79-4ca0-f215-e0d78caa46fc"
      },
      "execution_count": 7,
      "outputs": [
        {
          "output_type": "display_data",
          "data": {
            "text/plain": [
              "\u001b[1mModel: \"sequential\"\u001b[0m\n"
            ],
            "text/html": [
              "<pre style=\"white-space:pre;overflow-x:auto;line-height:normal;font-family:Menlo,'DejaVu Sans Mono',consolas,'Courier New',monospace\"><span style=\"font-weight: bold\">Model: \"sequential\"</span>\n",
              "</pre>\n"
            ]
          },
          "metadata": {}
        },
        {
          "output_type": "display_data",
          "data": {
            "text/plain": [
              "┏━━━━━━━━━━━━━━━━━━━━━━━━━━━━━━━━━━━━━━┳━━━━━━━━━━━━━━━━━━━━━━━━━━━━━┳━━━━━━━━━━━━━━━━━┓\n",
              "┃\u001b[1m \u001b[0m\u001b[1mLayer (type)                        \u001b[0m\u001b[1m \u001b[0m┃\u001b[1m \u001b[0m\u001b[1mOutput Shape               \u001b[0m\u001b[1m \u001b[0m┃\u001b[1m \u001b[0m\u001b[1m        Param #\u001b[0m\u001b[1m \u001b[0m┃\n",
              "┡━━━━━━━━━━━━━━━━━━━━━━━━━━━━━━━━━━━━━━╇━━━━━━━━━━━━━━━━━━━━━━━━━━━━━╇━━━━━━━━━━━━━━━━━┩\n",
              "│ dense (\u001b[38;5;33mDense\u001b[0m)                        │ (\u001b[38;5;45mNone\u001b[0m, \u001b[38;5;34m18\u001b[0m)                  │              \u001b[38;5;34m72\u001b[0m │\n",
              "├──────────────────────────────────────┼─────────────────────────────┼─────────────────┤\n",
              "│ dense_1 (\u001b[38;5;33mDense\u001b[0m)                      │ (\u001b[38;5;45mNone\u001b[0m, \u001b[38;5;34m14\u001b[0m)                  │             \u001b[38;5;34m266\u001b[0m │\n",
              "├──────────────────────────────────────┼─────────────────────────────┼─────────────────┤\n",
              "│ dense_2 (\u001b[38;5;33mDense\u001b[0m)                      │ (\u001b[38;5;45mNone\u001b[0m, \u001b[38;5;34m1\u001b[0m)                   │              \u001b[38;5;34m15\u001b[0m │\n",
              "└──────────────────────────────────────┴─────────────────────────────┴─────────────────┘\n"
            ],
            "text/html": [
              "<pre style=\"white-space:pre;overflow-x:auto;line-height:normal;font-family:Menlo,'DejaVu Sans Mono',consolas,'Courier New',monospace\">┏━━━━━━━━━━━━━━━━━━━━━━━━━━━━━━━━━━━━━━┳━━━━━━━━━━━━━━━━━━━━━━━━━━━━━┳━━━━━━━━━━━━━━━━━┓\n",
              "┃<span style=\"font-weight: bold\"> Layer (type)                         </span>┃<span style=\"font-weight: bold\"> Output Shape                </span>┃<span style=\"font-weight: bold\">         Param # </span>┃\n",
              "┡━━━━━━━━━━━━━━━━━━━━━━━━━━━━━━━━━━━━━━╇━━━━━━━━━━━━━━━━━━━━━━━━━━━━━╇━━━━━━━━━━━━━━━━━┩\n",
              "│ dense (<span style=\"color: #0087ff; text-decoration-color: #0087ff\">Dense</span>)                        │ (<span style=\"color: #00d7ff; text-decoration-color: #00d7ff\">None</span>, <span style=\"color: #00af00; text-decoration-color: #00af00\">18</span>)                  │              <span style=\"color: #00af00; text-decoration-color: #00af00\">72</span> │\n",
              "├──────────────────────────────────────┼─────────────────────────────┼─────────────────┤\n",
              "│ dense_1 (<span style=\"color: #0087ff; text-decoration-color: #0087ff\">Dense</span>)                      │ (<span style=\"color: #00d7ff; text-decoration-color: #00d7ff\">None</span>, <span style=\"color: #00af00; text-decoration-color: #00af00\">14</span>)                  │             <span style=\"color: #00af00; text-decoration-color: #00af00\">266</span> │\n",
              "├──────────────────────────────────────┼─────────────────────────────┼─────────────────┤\n",
              "│ dense_2 (<span style=\"color: #0087ff; text-decoration-color: #0087ff\">Dense</span>)                      │ (<span style=\"color: #00d7ff; text-decoration-color: #00d7ff\">None</span>, <span style=\"color: #00af00; text-decoration-color: #00af00\">1</span>)                   │              <span style=\"color: #00af00; text-decoration-color: #00af00\">15</span> │\n",
              "└──────────────────────────────────────┴─────────────────────────────┴─────────────────┘\n",
              "</pre>\n"
            ]
          },
          "metadata": {}
        },
        {
          "output_type": "display_data",
          "data": {
            "text/plain": [
              "\u001b[1m Total params: \u001b[0m\u001b[38;5;34m353\u001b[0m (1.38 KB)\n"
            ],
            "text/html": [
              "<pre style=\"white-space:pre;overflow-x:auto;line-height:normal;font-family:Menlo,'DejaVu Sans Mono',consolas,'Courier New',monospace\"><span style=\"font-weight: bold\"> Total params: </span><span style=\"color: #00af00; text-decoration-color: #00af00\">353</span> (1.38 KB)\n",
              "</pre>\n"
            ]
          },
          "metadata": {}
        },
        {
          "output_type": "display_data",
          "data": {
            "text/plain": [
              "\u001b[1m Trainable params: \u001b[0m\u001b[38;5;34m353\u001b[0m (1.38 KB)\n"
            ],
            "text/html": [
              "<pre style=\"white-space:pre;overflow-x:auto;line-height:normal;font-family:Menlo,'DejaVu Sans Mono',consolas,'Courier New',monospace\"><span style=\"font-weight: bold\"> Trainable params: </span><span style=\"color: #00af00; text-decoration-color: #00af00\">353</span> (1.38 KB)\n",
              "</pre>\n"
            ]
          },
          "metadata": {}
        },
        {
          "output_type": "display_data",
          "data": {
            "text/plain": [
              "\u001b[1m Non-trainable params: \u001b[0m\u001b[38;5;34m0\u001b[0m (0.00 B)\n"
            ],
            "text/html": [
              "<pre style=\"white-space:pre;overflow-x:auto;line-height:normal;font-family:Menlo,'DejaVu Sans Mono',consolas,'Courier New',monospace\"><span style=\"font-weight: bold\"> Non-trainable params: </span><span style=\"color: #00af00; text-decoration-color: #00af00\">0</span> (0.00 B)\n",
              "</pre>\n"
            ]
          },
          "metadata": {}
        },
        {
          "output_type": "stream",
          "name": "stdout",
          "text": [
            "None\n"
          ]
        }
      ]
    },
    {
      "cell_type": "markdown",
      "source": [
        "In this step, we use `train_test_split` to create an initial test set and a larger remaining set from the full dataset. Here, `test_size=0.8` specifies that 80% of the data should go into the remaining set (`X_rest`, `y_rest`), while 20% is set aside as an initial test set (`X_initial_test`, `y_initial_test`). Setting `random_state=42` ensures consistent shuffling each time the code is run, so we always split the data the same way.\n",
        "\n",
        "This initial test set allows us to evaluate the model's performance in an untrained state. By using a separate test set right at the beginning, we can establish a baseline performance for the model with random weights, which can be compared to performance after training."
      ],
      "metadata": {
        "id": "RrAwn5Wjjn_a"
      }
    },
    {
      "cell_type": "code",
      "source": [
        "# Split off a test set to evaluate the untrained model\n",
        "X_initial_test, X_rest, y_initial_test, y_rest = train_test_split(X, y, test_size=0.8, random_state=42)"
      ],
      "metadata": {
        "id": "a73LsOEvjsrW"
      },
      "execution_count": 8,
      "outputs": []
    },
    {
      "cell_type": "markdown",
      "source": [
        "In this section of the code, the model's initial weights are loaded from the file `\"initial_weights.weights.h5\"`. This step is important for evaluating the performance of the untrained model before any training begins. The `model.evaluate()` function is then used to assess the model's loss and accuracy on the `X_initial_test` and `y_initial_test` data. These metrics help understand how well the model is performing at the start, when it has not yet been trained on any data. The loss indicates how far off the model's predictions are from the actual values, while accuracy shows the percentage of correct predictions. Since the model is untrained at this point, the loss is likely to be high, and the accuracy low. This baseline evaluation provides a reference point to measure improvement after training."
      ],
      "metadata": {
        "id": "vMR1c-uFl-JG"
      }
    },
    {
      "cell_type": "code",
      "source": [
        "# Load initial weights and evaluate on the initial test set\n",
        "model.load_weights(\"initial_weights.weights.h5\")\n",
        "test_loss, test_acc = model.evaluate(X_initial_test, y_initial_test, verbose=0)\n",
        "print(\"Untrained model loss:\", test_loss)\n",
        "print(\"Untrained model accuracy:\", test_acc)"
      ],
      "metadata": {
        "colab": {
          "base_uri": "https://localhost:8080/"
        },
        "collapsed": true,
        "id": "fIo5mhxal9RS",
        "outputId": "08c5bf9d-6763-43ba-f8b0-adb8ea538470"
      },
      "execution_count": 9,
      "outputs": [
        {
          "output_type": "stream",
          "name": "stdout",
          "text": [
            "Untrained model loss: 12.447905540466309\n",
            "Untrained model accuracy: 0.8666666746139526\n"
          ]
        }
      ]
    },
    {
      "cell_type": "markdown",
      "source": [
        "Implementing cross-validation, a technique used to evaluate the model’s performance more reliably by testing it on different subsets of the data. In the loop, the `KFold` object splits the `X_rest` dataset into `k` folds (in this case, 5 folds). Each fold acts as a validation set once, while the remaining folds are used for training the model.\n",
        "\n",
        "For each fold:\n",
        "1. The dataset is divided into a training set (`X_train_fold`, `y_train_fold`) and a test set (`X_test_fold`, `y_test_fold`) based on the indices from the `kf.split()` method.\n",
        "2. A new model is created and the initial weights are loaded from `\"initial_weights.weights.h5\"`, ensuring that the model starts from the same state in each fold.\n",
        "3. The model is then trained using the `fit()` function on the training data, for 50 epochs with a batch size of 8. The `verbose=0` argument suppresses the output during training.\n",
        "4. After training, the model is evaluated on the test data from the current fold, and the accuracy is stored in the `fold_accuracies` list.\n",
        "\n",
        "Cross-validation is useful because it helps prevent overfitting, providing a better estimate of the model's generalizability. By using different subsets of data for training and testing in each fold, it allows for a more robust performance evaluation compared to a single train-test split. The final result is an average accuracy across all folds, offering a clearer picture of how well the model is likely to perform on unseen data."
      ],
      "metadata": {
        "id": "ndwPMGlSYvYM"
      }
    },
    {
      "cell_type": "code",
      "source": [
        "# Cross-validation loop\n",
        "for train_index, test_index in kf.split(X_rest):\n",
        "    # Split data into training and testing sets for the current fold\n",
        "    X_train_fold, X_test_fold = X_rest.iloc[train_index], X_rest.iloc[test_index]\n",
        "    y_train_fold, y_test_fold = y_rest.iloc[train_index], y_rest.iloc[test_index]\n",
        "\n",
        "    # Create a new model and load initial weights for each fold\n",
        "    model = create_model()\n",
        "    model.load_weights(\"initial_weights.weights.h5\")\n",
        "\n",
        "    # Train the model on the current fold\n",
        "    model.fit(X_train_fold, y_train_fold, epochs=50, batch_size=8, verbose=0)\n",
        "\n",
        "    # Evaluate the model on the test fold and store accuracy\n",
        "    loss, accuracy = model.evaluate(X_test_fold, y_test_fold, verbose=0)\n",
        "    fold_accuracies.append(accuracy)"
      ],
      "metadata": {
        "colab": {
          "base_uri": "https://localhost:8080/",
          "height": 1000
        },
        "id": "FLmgWyCuppbJ",
        "outputId": "4ee80cda-d036-45b9-d98b-bea5003c0094",
        "collapsed": true
      },
      "execution_count": 10,
      "outputs": [
        {
          "output_type": "display_data",
          "data": {
            "text/plain": [
              "\u001b[1mModel: \"sequential_1\"\u001b[0m\n"
            ],
            "text/html": [
              "<pre style=\"white-space:pre;overflow-x:auto;line-height:normal;font-family:Menlo,'DejaVu Sans Mono',consolas,'Courier New',monospace\"><span style=\"font-weight: bold\">Model: \"sequential_1\"</span>\n",
              "</pre>\n"
            ]
          },
          "metadata": {}
        },
        {
          "output_type": "display_data",
          "data": {
            "text/plain": [
              "┏━━━━━━━━━━━━━━━━━━━━━━━━━━━━━━━━━━━━━━┳━━━━━━━━━━━━━━━━━━━━━━━━━━━━━┳━━━━━━━━━━━━━━━━━┓\n",
              "┃\u001b[1m \u001b[0m\u001b[1mLayer (type)                        \u001b[0m\u001b[1m \u001b[0m┃\u001b[1m \u001b[0m\u001b[1mOutput Shape               \u001b[0m\u001b[1m \u001b[0m┃\u001b[1m \u001b[0m\u001b[1m        Param #\u001b[0m\u001b[1m \u001b[0m┃\n",
              "┡━━━━━━━━━━━━━━━━━━━━━━━━━━━━━━━━━━━━━━╇━━━━━━━━━━━━━━━━━━━━━━━━━━━━━╇━━━━━━━━━━━━━━━━━┩\n",
              "│ dense_3 (\u001b[38;5;33mDense\u001b[0m)                      │ (\u001b[38;5;45mNone\u001b[0m, \u001b[38;5;34m18\u001b[0m)                  │              \u001b[38;5;34m72\u001b[0m │\n",
              "├──────────────────────────────────────┼─────────────────────────────┼─────────────────┤\n",
              "│ dense_4 (\u001b[38;5;33mDense\u001b[0m)                      │ (\u001b[38;5;45mNone\u001b[0m, \u001b[38;5;34m14\u001b[0m)                  │             \u001b[38;5;34m266\u001b[0m │\n",
              "├──────────────────────────────────────┼─────────────────────────────┼─────────────────┤\n",
              "│ dense_5 (\u001b[38;5;33mDense\u001b[0m)                      │ (\u001b[38;5;45mNone\u001b[0m, \u001b[38;5;34m1\u001b[0m)                   │              \u001b[38;5;34m15\u001b[0m │\n",
              "└──────────────────────────────────────┴─────────────────────────────┴─────────────────┘\n"
            ],
            "text/html": [
              "<pre style=\"white-space:pre;overflow-x:auto;line-height:normal;font-family:Menlo,'DejaVu Sans Mono',consolas,'Courier New',monospace\">┏━━━━━━━━━━━━━━━━━━━━━━━━━━━━━━━━━━━━━━┳━━━━━━━━━━━━━━━━━━━━━━━━━━━━━┳━━━━━━━━━━━━━━━━━┓\n",
              "┃<span style=\"font-weight: bold\"> Layer (type)                         </span>┃<span style=\"font-weight: bold\"> Output Shape                </span>┃<span style=\"font-weight: bold\">         Param # </span>┃\n",
              "┡━━━━━━━━━━━━━━━━━━━━━━━━━━━━━━━━━━━━━━╇━━━━━━━━━━━━━━━━━━━━━━━━━━━━━╇━━━━━━━━━━━━━━━━━┩\n",
              "│ dense_3 (<span style=\"color: #0087ff; text-decoration-color: #0087ff\">Dense</span>)                      │ (<span style=\"color: #00d7ff; text-decoration-color: #00d7ff\">None</span>, <span style=\"color: #00af00; text-decoration-color: #00af00\">18</span>)                  │              <span style=\"color: #00af00; text-decoration-color: #00af00\">72</span> │\n",
              "├──────────────────────────────────────┼─────────────────────────────┼─────────────────┤\n",
              "│ dense_4 (<span style=\"color: #0087ff; text-decoration-color: #0087ff\">Dense</span>)                      │ (<span style=\"color: #00d7ff; text-decoration-color: #00d7ff\">None</span>, <span style=\"color: #00af00; text-decoration-color: #00af00\">14</span>)                  │             <span style=\"color: #00af00; text-decoration-color: #00af00\">266</span> │\n",
              "├──────────────────────────────────────┼─────────────────────────────┼─────────────────┤\n",
              "│ dense_5 (<span style=\"color: #0087ff; text-decoration-color: #0087ff\">Dense</span>)                      │ (<span style=\"color: #00d7ff; text-decoration-color: #00d7ff\">None</span>, <span style=\"color: #00af00; text-decoration-color: #00af00\">1</span>)                   │              <span style=\"color: #00af00; text-decoration-color: #00af00\">15</span> │\n",
              "└──────────────────────────────────────┴─────────────────────────────┴─────────────────┘\n",
              "</pre>\n"
            ]
          },
          "metadata": {}
        },
        {
          "output_type": "display_data",
          "data": {
            "text/plain": [
              "\u001b[1m Total params: \u001b[0m\u001b[38;5;34m353\u001b[0m (1.38 KB)\n"
            ],
            "text/html": [
              "<pre style=\"white-space:pre;overflow-x:auto;line-height:normal;font-family:Menlo,'DejaVu Sans Mono',consolas,'Courier New',monospace\"><span style=\"font-weight: bold\"> Total params: </span><span style=\"color: #00af00; text-decoration-color: #00af00\">353</span> (1.38 KB)\n",
              "</pre>\n"
            ]
          },
          "metadata": {}
        },
        {
          "output_type": "display_data",
          "data": {
            "text/plain": [
              "\u001b[1m Trainable params: \u001b[0m\u001b[38;5;34m353\u001b[0m (1.38 KB)\n"
            ],
            "text/html": [
              "<pre style=\"white-space:pre;overflow-x:auto;line-height:normal;font-family:Menlo,'DejaVu Sans Mono',consolas,'Courier New',monospace\"><span style=\"font-weight: bold\"> Trainable params: </span><span style=\"color: #00af00; text-decoration-color: #00af00\">353</span> (1.38 KB)\n",
              "</pre>\n"
            ]
          },
          "metadata": {}
        },
        {
          "output_type": "display_data",
          "data": {
            "text/plain": [
              "\u001b[1m Non-trainable params: \u001b[0m\u001b[38;5;34m0\u001b[0m (0.00 B)\n"
            ],
            "text/html": [
              "<pre style=\"white-space:pre;overflow-x:auto;line-height:normal;font-family:Menlo,'DejaVu Sans Mono',consolas,'Courier New',monospace\"><span style=\"font-weight: bold\"> Non-trainable params: </span><span style=\"color: #00af00; text-decoration-color: #00af00\">0</span> (0.00 B)\n",
              "</pre>\n"
            ]
          },
          "metadata": {}
        },
        {
          "output_type": "stream",
          "name": "stdout",
          "text": [
            "None\n"
          ]
        },
        {
          "output_type": "display_data",
          "data": {
            "text/plain": [
              "\u001b[1mModel: \"sequential_2\"\u001b[0m\n"
            ],
            "text/html": [
              "<pre style=\"white-space:pre;overflow-x:auto;line-height:normal;font-family:Menlo,'DejaVu Sans Mono',consolas,'Courier New',monospace\"><span style=\"font-weight: bold\">Model: \"sequential_2\"</span>\n",
              "</pre>\n"
            ]
          },
          "metadata": {}
        },
        {
          "output_type": "display_data",
          "data": {
            "text/plain": [
              "┏━━━━━━━━━━━━━━━━━━━━━━━━━━━━━━━━━━━━━━┳━━━━━━━━━━━━━━━━━━━━━━━━━━━━━┳━━━━━━━━━━━━━━━━━┓\n",
              "┃\u001b[1m \u001b[0m\u001b[1mLayer (type)                        \u001b[0m\u001b[1m \u001b[0m┃\u001b[1m \u001b[0m\u001b[1mOutput Shape               \u001b[0m\u001b[1m \u001b[0m┃\u001b[1m \u001b[0m\u001b[1m        Param #\u001b[0m\u001b[1m \u001b[0m┃\n",
              "┡━━━━━━━━━━━━━━━━━━━━━━━━━━━━━━━━━━━━━━╇━━━━━━━━━━━━━━━━━━━━━━━━━━━━━╇━━━━━━━━━━━━━━━━━┩\n",
              "│ dense_6 (\u001b[38;5;33mDense\u001b[0m)                      │ (\u001b[38;5;45mNone\u001b[0m, \u001b[38;5;34m18\u001b[0m)                  │              \u001b[38;5;34m72\u001b[0m │\n",
              "├──────────────────────────────────────┼─────────────────────────────┼─────────────────┤\n",
              "│ dense_7 (\u001b[38;5;33mDense\u001b[0m)                      │ (\u001b[38;5;45mNone\u001b[0m, \u001b[38;5;34m14\u001b[0m)                  │             \u001b[38;5;34m266\u001b[0m │\n",
              "├──────────────────────────────────────┼─────────────────────────────┼─────────────────┤\n",
              "│ dense_8 (\u001b[38;5;33mDense\u001b[0m)                      │ (\u001b[38;5;45mNone\u001b[0m, \u001b[38;5;34m1\u001b[0m)                   │              \u001b[38;5;34m15\u001b[0m │\n",
              "└──────────────────────────────────────┴─────────────────────────────┴─────────────────┘\n"
            ],
            "text/html": [
              "<pre style=\"white-space:pre;overflow-x:auto;line-height:normal;font-family:Menlo,'DejaVu Sans Mono',consolas,'Courier New',monospace\">┏━━━━━━━━━━━━━━━━━━━━━━━━━━━━━━━━━━━━━━┳━━━━━━━━━━━━━━━━━━━━━━━━━━━━━┳━━━━━━━━━━━━━━━━━┓\n",
              "┃<span style=\"font-weight: bold\"> Layer (type)                         </span>┃<span style=\"font-weight: bold\"> Output Shape                </span>┃<span style=\"font-weight: bold\">         Param # </span>┃\n",
              "┡━━━━━━━━━━━━━━━━━━━━━━━━━━━━━━━━━━━━━━╇━━━━━━━━━━━━━━━━━━━━━━━━━━━━━╇━━━━━━━━━━━━━━━━━┩\n",
              "│ dense_6 (<span style=\"color: #0087ff; text-decoration-color: #0087ff\">Dense</span>)                      │ (<span style=\"color: #00d7ff; text-decoration-color: #00d7ff\">None</span>, <span style=\"color: #00af00; text-decoration-color: #00af00\">18</span>)                  │              <span style=\"color: #00af00; text-decoration-color: #00af00\">72</span> │\n",
              "├──────────────────────────────────────┼─────────────────────────────┼─────────────────┤\n",
              "│ dense_7 (<span style=\"color: #0087ff; text-decoration-color: #0087ff\">Dense</span>)                      │ (<span style=\"color: #00d7ff; text-decoration-color: #00d7ff\">None</span>, <span style=\"color: #00af00; text-decoration-color: #00af00\">14</span>)                  │             <span style=\"color: #00af00; text-decoration-color: #00af00\">266</span> │\n",
              "├──────────────────────────────────────┼─────────────────────────────┼─────────────────┤\n",
              "│ dense_8 (<span style=\"color: #0087ff; text-decoration-color: #0087ff\">Dense</span>)                      │ (<span style=\"color: #00d7ff; text-decoration-color: #00d7ff\">None</span>, <span style=\"color: #00af00; text-decoration-color: #00af00\">1</span>)                   │              <span style=\"color: #00af00; text-decoration-color: #00af00\">15</span> │\n",
              "└──────────────────────────────────────┴─────────────────────────────┴─────────────────┘\n",
              "</pre>\n"
            ]
          },
          "metadata": {}
        },
        {
          "output_type": "display_data",
          "data": {
            "text/plain": [
              "\u001b[1m Total params: \u001b[0m\u001b[38;5;34m353\u001b[0m (1.38 KB)\n"
            ],
            "text/html": [
              "<pre style=\"white-space:pre;overflow-x:auto;line-height:normal;font-family:Menlo,'DejaVu Sans Mono',consolas,'Courier New',monospace\"><span style=\"font-weight: bold\"> Total params: </span><span style=\"color: #00af00; text-decoration-color: #00af00\">353</span> (1.38 KB)\n",
              "</pre>\n"
            ]
          },
          "metadata": {}
        },
        {
          "output_type": "display_data",
          "data": {
            "text/plain": [
              "\u001b[1m Trainable params: \u001b[0m\u001b[38;5;34m353\u001b[0m (1.38 KB)\n"
            ],
            "text/html": [
              "<pre style=\"white-space:pre;overflow-x:auto;line-height:normal;font-family:Menlo,'DejaVu Sans Mono',consolas,'Courier New',monospace\"><span style=\"font-weight: bold\"> Trainable params: </span><span style=\"color: #00af00; text-decoration-color: #00af00\">353</span> (1.38 KB)\n",
              "</pre>\n"
            ]
          },
          "metadata": {}
        },
        {
          "output_type": "display_data",
          "data": {
            "text/plain": [
              "\u001b[1m Non-trainable params: \u001b[0m\u001b[38;5;34m0\u001b[0m (0.00 B)\n"
            ],
            "text/html": [
              "<pre style=\"white-space:pre;overflow-x:auto;line-height:normal;font-family:Menlo,'DejaVu Sans Mono',consolas,'Courier New',monospace\"><span style=\"font-weight: bold\"> Non-trainable params: </span><span style=\"color: #00af00; text-decoration-color: #00af00\">0</span> (0.00 B)\n",
              "</pre>\n"
            ]
          },
          "metadata": {}
        },
        {
          "output_type": "stream",
          "name": "stdout",
          "text": [
            "None\n"
          ]
        },
        {
          "output_type": "display_data",
          "data": {
            "text/plain": [
              "\u001b[1mModel: \"sequential_3\"\u001b[0m\n"
            ],
            "text/html": [
              "<pre style=\"white-space:pre;overflow-x:auto;line-height:normal;font-family:Menlo,'DejaVu Sans Mono',consolas,'Courier New',monospace\"><span style=\"font-weight: bold\">Model: \"sequential_3\"</span>\n",
              "</pre>\n"
            ]
          },
          "metadata": {}
        },
        {
          "output_type": "display_data",
          "data": {
            "text/plain": [
              "┏━━━━━━━━━━━━━━━━━━━━━━━━━━━━━━━━━━━━━━┳━━━━━━━━━━━━━━━━━━━━━━━━━━━━━┳━━━━━━━━━━━━━━━━━┓\n",
              "┃\u001b[1m \u001b[0m\u001b[1mLayer (type)                        \u001b[0m\u001b[1m \u001b[0m┃\u001b[1m \u001b[0m\u001b[1mOutput Shape               \u001b[0m\u001b[1m \u001b[0m┃\u001b[1m \u001b[0m\u001b[1m        Param #\u001b[0m\u001b[1m \u001b[0m┃\n",
              "┡━━━━━━━━━━━━━━━━━━━━━━━━━━━━━━━━━━━━━━╇━━━━━━━━━━━━━━━━━━━━━━━━━━━━━╇━━━━━━━━━━━━━━━━━┩\n",
              "│ dense_9 (\u001b[38;5;33mDense\u001b[0m)                      │ (\u001b[38;5;45mNone\u001b[0m, \u001b[38;5;34m18\u001b[0m)                  │              \u001b[38;5;34m72\u001b[0m │\n",
              "├──────────────────────────────────────┼─────────────────────────────┼─────────────────┤\n",
              "│ dense_10 (\u001b[38;5;33mDense\u001b[0m)                     │ (\u001b[38;5;45mNone\u001b[0m, \u001b[38;5;34m14\u001b[0m)                  │             \u001b[38;5;34m266\u001b[0m │\n",
              "├──────────────────────────────────────┼─────────────────────────────┼─────────────────┤\n",
              "│ dense_11 (\u001b[38;5;33mDense\u001b[0m)                     │ (\u001b[38;5;45mNone\u001b[0m, \u001b[38;5;34m1\u001b[0m)                   │              \u001b[38;5;34m15\u001b[0m │\n",
              "└──────────────────────────────────────┴─────────────────────────────┴─────────────────┘\n"
            ],
            "text/html": [
              "<pre style=\"white-space:pre;overflow-x:auto;line-height:normal;font-family:Menlo,'DejaVu Sans Mono',consolas,'Courier New',monospace\">┏━━━━━━━━━━━━━━━━━━━━━━━━━━━━━━━━━━━━━━┳━━━━━━━━━━━━━━━━━━━━━━━━━━━━━┳━━━━━━━━━━━━━━━━━┓\n",
              "┃<span style=\"font-weight: bold\"> Layer (type)                         </span>┃<span style=\"font-weight: bold\"> Output Shape                </span>┃<span style=\"font-weight: bold\">         Param # </span>┃\n",
              "┡━━━━━━━━━━━━━━━━━━━━━━━━━━━━━━━━━━━━━━╇━━━━━━━━━━━━━━━━━━━━━━━━━━━━━╇━━━━━━━━━━━━━━━━━┩\n",
              "│ dense_9 (<span style=\"color: #0087ff; text-decoration-color: #0087ff\">Dense</span>)                      │ (<span style=\"color: #00d7ff; text-decoration-color: #00d7ff\">None</span>, <span style=\"color: #00af00; text-decoration-color: #00af00\">18</span>)                  │              <span style=\"color: #00af00; text-decoration-color: #00af00\">72</span> │\n",
              "├──────────────────────────────────────┼─────────────────────────────┼─────────────────┤\n",
              "│ dense_10 (<span style=\"color: #0087ff; text-decoration-color: #0087ff\">Dense</span>)                     │ (<span style=\"color: #00d7ff; text-decoration-color: #00d7ff\">None</span>, <span style=\"color: #00af00; text-decoration-color: #00af00\">14</span>)                  │             <span style=\"color: #00af00; text-decoration-color: #00af00\">266</span> │\n",
              "├──────────────────────────────────────┼─────────────────────────────┼─────────────────┤\n",
              "│ dense_11 (<span style=\"color: #0087ff; text-decoration-color: #0087ff\">Dense</span>)                     │ (<span style=\"color: #00d7ff; text-decoration-color: #00d7ff\">None</span>, <span style=\"color: #00af00; text-decoration-color: #00af00\">1</span>)                   │              <span style=\"color: #00af00; text-decoration-color: #00af00\">15</span> │\n",
              "└──────────────────────────────────────┴─────────────────────────────┴─────────────────┘\n",
              "</pre>\n"
            ]
          },
          "metadata": {}
        },
        {
          "output_type": "display_data",
          "data": {
            "text/plain": [
              "\u001b[1m Total params: \u001b[0m\u001b[38;5;34m353\u001b[0m (1.38 KB)\n"
            ],
            "text/html": [
              "<pre style=\"white-space:pre;overflow-x:auto;line-height:normal;font-family:Menlo,'DejaVu Sans Mono',consolas,'Courier New',monospace\"><span style=\"font-weight: bold\"> Total params: </span><span style=\"color: #00af00; text-decoration-color: #00af00\">353</span> (1.38 KB)\n",
              "</pre>\n"
            ]
          },
          "metadata": {}
        },
        {
          "output_type": "display_data",
          "data": {
            "text/plain": [
              "\u001b[1m Trainable params: \u001b[0m\u001b[38;5;34m353\u001b[0m (1.38 KB)\n"
            ],
            "text/html": [
              "<pre style=\"white-space:pre;overflow-x:auto;line-height:normal;font-family:Menlo,'DejaVu Sans Mono',consolas,'Courier New',monospace\"><span style=\"font-weight: bold\"> Trainable params: </span><span style=\"color: #00af00; text-decoration-color: #00af00\">353</span> (1.38 KB)\n",
              "</pre>\n"
            ]
          },
          "metadata": {}
        },
        {
          "output_type": "display_data",
          "data": {
            "text/plain": [
              "\u001b[1m Non-trainable params: \u001b[0m\u001b[38;5;34m0\u001b[0m (0.00 B)\n"
            ],
            "text/html": [
              "<pre style=\"white-space:pre;overflow-x:auto;line-height:normal;font-family:Menlo,'DejaVu Sans Mono',consolas,'Courier New',monospace\"><span style=\"font-weight: bold\"> Non-trainable params: </span><span style=\"color: #00af00; text-decoration-color: #00af00\">0</span> (0.00 B)\n",
              "</pre>\n"
            ]
          },
          "metadata": {}
        },
        {
          "output_type": "stream",
          "name": "stdout",
          "text": [
            "None\n"
          ]
        },
        {
          "output_type": "display_data",
          "data": {
            "text/plain": [
              "\u001b[1mModel: \"sequential_4\"\u001b[0m\n"
            ],
            "text/html": [
              "<pre style=\"white-space:pre;overflow-x:auto;line-height:normal;font-family:Menlo,'DejaVu Sans Mono',consolas,'Courier New',monospace\"><span style=\"font-weight: bold\">Model: \"sequential_4\"</span>\n",
              "</pre>\n"
            ]
          },
          "metadata": {}
        },
        {
          "output_type": "display_data",
          "data": {
            "text/plain": [
              "┏━━━━━━━━━━━━━━━━━━━━━━━━━━━━━━━━━━━━━━┳━━━━━━━━━━━━━━━━━━━━━━━━━━━━━┳━━━━━━━━━━━━━━━━━┓\n",
              "┃\u001b[1m \u001b[0m\u001b[1mLayer (type)                        \u001b[0m\u001b[1m \u001b[0m┃\u001b[1m \u001b[0m\u001b[1mOutput Shape               \u001b[0m\u001b[1m \u001b[0m┃\u001b[1m \u001b[0m\u001b[1m        Param #\u001b[0m\u001b[1m \u001b[0m┃\n",
              "┡━━━━━━━━━━━━━━━━━━━━━━━━━━━━━━━━━━━━━━╇━━━━━━━━━━━━━━━━━━━━━━━━━━━━━╇━━━━━━━━━━━━━━━━━┩\n",
              "│ dense_12 (\u001b[38;5;33mDense\u001b[0m)                     │ (\u001b[38;5;45mNone\u001b[0m, \u001b[38;5;34m18\u001b[0m)                  │              \u001b[38;5;34m72\u001b[0m │\n",
              "├──────────────────────────────────────┼─────────────────────────────┼─────────────────┤\n",
              "│ dense_13 (\u001b[38;5;33mDense\u001b[0m)                     │ (\u001b[38;5;45mNone\u001b[0m, \u001b[38;5;34m14\u001b[0m)                  │             \u001b[38;5;34m266\u001b[0m │\n",
              "├──────────────────────────────────────┼─────────────────────────────┼─────────────────┤\n",
              "│ dense_14 (\u001b[38;5;33mDense\u001b[0m)                     │ (\u001b[38;5;45mNone\u001b[0m, \u001b[38;5;34m1\u001b[0m)                   │              \u001b[38;5;34m15\u001b[0m │\n",
              "└──────────────────────────────────────┴─────────────────────────────┴─────────────────┘\n"
            ],
            "text/html": [
              "<pre style=\"white-space:pre;overflow-x:auto;line-height:normal;font-family:Menlo,'DejaVu Sans Mono',consolas,'Courier New',monospace\">┏━━━━━━━━━━━━━━━━━━━━━━━━━━━━━━━━━━━━━━┳━━━━━━━━━━━━━━━━━━━━━━━━━━━━━┳━━━━━━━━━━━━━━━━━┓\n",
              "┃<span style=\"font-weight: bold\"> Layer (type)                         </span>┃<span style=\"font-weight: bold\"> Output Shape                </span>┃<span style=\"font-weight: bold\">         Param # </span>┃\n",
              "┡━━━━━━━━━━━━━━━━━━━━━━━━━━━━━━━━━━━━━━╇━━━━━━━━━━━━━━━━━━━━━━━━━━━━━╇━━━━━━━━━━━━━━━━━┩\n",
              "│ dense_12 (<span style=\"color: #0087ff; text-decoration-color: #0087ff\">Dense</span>)                     │ (<span style=\"color: #00d7ff; text-decoration-color: #00d7ff\">None</span>, <span style=\"color: #00af00; text-decoration-color: #00af00\">18</span>)                  │              <span style=\"color: #00af00; text-decoration-color: #00af00\">72</span> │\n",
              "├──────────────────────────────────────┼─────────────────────────────┼─────────────────┤\n",
              "│ dense_13 (<span style=\"color: #0087ff; text-decoration-color: #0087ff\">Dense</span>)                     │ (<span style=\"color: #00d7ff; text-decoration-color: #00d7ff\">None</span>, <span style=\"color: #00af00; text-decoration-color: #00af00\">14</span>)                  │             <span style=\"color: #00af00; text-decoration-color: #00af00\">266</span> │\n",
              "├──────────────────────────────────────┼─────────────────────────────┼─────────────────┤\n",
              "│ dense_14 (<span style=\"color: #0087ff; text-decoration-color: #0087ff\">Dense</span>)                     │ (<span style=\"color: #00d7ff; text-decoration-color: #00d7ff\">None</span>, <span style=\"color: #00af00; text-decoration-color: #00af00\">1</span>)                   │              <span style=\"color: #00af00; text-decoration-color: #00af00\">15</span> │\n",
              "└──────────────────────────────────────┴─────────────────────────────┴─────────────────┘\n",
              "</pre>\n"
            ]
          },
          "metadata": {}
        },
        {
          "output_type": "display_data",
          "data": {
            "text/plain": [
              "\u001b[1m Total params: \u001b[0m\u001b[38;5;34m353\u001b[0m (1.38 KB)\n"
            ],
            "text/html": [
              "<pre style=\"white-space:pre;overflow-x:auto;line-height:normal;font-family:Menlo,'DejaVu Sans Mono',consolas,'Courier New',monospace\"><span style=\"font-weight: bold\"> Total params: </span><span style=\"color: #00af00; text-decoration-color: #00af00\">353</span> (1.38 KB)\n",
              "</pre>\n"
            ]
          },
          "metadata": {}
        },
        {
          "output_type": "display_data",
          "data": {
            "text/plain": [
              "\u001b[1m Trainable params: \u001b[0m\u001b[38;5;34m353\u001b[0m (1.38 KB)\n"
            ],
            "text/html": [
              "<pre style=\"white-space:pre;overflow-x:auto;line-height:normal;font-family:Menlo,'DejaVu Sans Mono',consolas,'Courier New',monospace\"><span style=\"font-weight: bold\"> Trainable params: </span><span style=\"color: #00af00; text-decoration-color: #00af00\">353</span> (1.38 KB)\n",
              "</pre>\n"
            ]
          },
          "metadata": {}
        },
        {
          "output_type": "display_data",
          "data": {
            "text/plain": [
              "\u001b[1m Non-trainable params: \u001b[0m\u001b[38;5;34m0\u001b[0m (0.00 B)\n"
            ],
            "text/html": [
              "<pre style=\"white-space:pre;overflow-x:auto;line-height:normal;font-family:Menlo,'DejaVu Sans Mono',consolas,'Courier New',monospace\"><span style=\"font-weight: bold\"> Non-trainable params: </span><span style=\"color: #00af00; text-decoration-color: #00af00\">0</span> (0.00 B)\n",
              "</pre>\n"
            ]
          },
          "metadata": {}
        },
        {
          "output_type": "stream",
          "name": "stdout",
          "text": [
            "None\n"
          ]
        },
        {
          "output_type": "stream",
          "name": "stderr",
          "text": [
            "WARNING:tensorflow:5 out of the last 5 calls to <function TensorFlowTrainer.make_test_function.<locals>.one_step_on_iterator at 0x78fc01e62b00> triggered tf.function retracing. Tracing is expensive and the excessive number of tracings could be due to (1) creating @tf.function repeatedly in a loop, (2) passing tensors with different shapes, (3) passing Python objects instead of tensors. For (1), please define your @tf.function outside of the loop. For (2), @tf.function has reduce_retracing=True option that can avoid unnecessary retracing. For (3), please refer to https://www.tensorflow.org/guide/function#controlling_retracing and https://www.tensorflow.org/api_docs/python/tf/function for  more details.\n"
          ]
        },
        {
          "output_type": "display_data",
          "data": {
            "text/plain": [
              "\u001b[1mModel: \"sequential_5\"\u001b[0m\n"
            ],
            "text/html": [
              "<pre style=\"white-space:pre;overflow-x:auto;line-height:normal;font-family:Menlo,'DejaVu Sans Mono',consolas,'Courier New',monospace\"><span style=\"font-weight: bold\">Model: \"sequential_5\"</span>\n",
              "</pre>\n"
            ]
          },
          "metadata": {}
        },
        {
          "output_type": "display_data",
          "data": {
            "text/plain": [
              "┏━━━━━━━━━━━━━━━━━━━━━━━━━━━━━━━━━━━━━━┳━━━━━━━━━━━━━━━━━━━━━━━━━━━━━┳━━━━━━━━━━━━━━━━━┓\n",
              "┃\u001b[1m \u001b[0m\u001b[1mLayer (type)                        \u001b[0m\u001b[1m \u001b[0m┃\u001b[1m \u001b[0m\u001b[1mOutput Shape               \u001b[0m\u001b[1m \u001b[0m┃\u001b[1m \u001b[0m\u001b[1m        Param #\u001b[0m\u001b[1m \u001b[0m┃\n",
              "┡━━━━━━━━━━━━━━━━━━━━━━━━━━━━━━━━━━━━━━╇━━━━━━━━━━━━━━━━━━━━━━━━━━━━━╇━━━━━━━━━━━━━━━━━┩\n",
              "│ dense_15 (\u001b[38;5;33mDense\u001b[0m)                     │ (\u001b[38;5;45mNone\u001b[0m, \u001b[38;5;34m18\u001b[0m)                  │              \u001b[38;5;34m72\u001b[0m │\n",
              "├──────────────────────────────────────┼─────────────────────────────┼─────────────────┤\n",
              "│ dense_16 (\u001b[38;5;33mDense\u001b[0m)                     │ (\u001b[38;5;45mNone\u001b[0m, \u001b[38;5;34m14\u001b[0m)                  │             \u001b[38;5;34m266\u001b[0m │\n",
              "├──────────────────────────────────────┼─────────────────────────────┼─────────────────┤\n",
              "│ dense_17 (\u001b[38;5;33mDense\u001b[0m)                     │ (\u001b[38;5;45mNone\u001b[0m, \u001b[38;5;34m1\u001b[0m)                   │              \u001b[38;5;34m15\u001b[0m │\n",
              "└──────────────────────────────────────┴─────────────────────────────┴─────────────────┘\n"
            ],
            "text/html": [
              "<pre style=\"white-space:pre;overflow-x:auto;line-height:normal;font-family:Menlo,'DejaVu Sans Mono',consolas,'Courier New',monospace\">┏━━━━━━━━━━━━━━━━━━━━━━━━━━━━━━━━━━━━━━┳━━━━━━━━━━━━━━━━━━━━━━━━━━━━━┳━━━━━━━━━━━━━━━━━┓\n",
              "┃<span style=\"font-weight: bold\"> Layer (type)                         </span>┃<span style=\"font-weight: bold\"> Output Shape                </span>┃<span style=\"font-weight: bold\">         Param # </span>┃\n",
              "┡━━━━━━━━━━━━━━━━━━━━━━━━━━━━━━━━━━━━━━╇━━━━━━━━━━━━━━━━━━━━━━━━━━━━━╇━━━━━━━━━━━━━━━━━┩\n",
              "│ dense_15 (<span style=\"color: #0087ff; text-decoration-color: #0087ff\">Dense</span>)                     │ (<span style=\"color: #00d7ff; text-decoration-color: #00d7ff\">None</span>, <span style=\"color: #00af00; text-decoration-color: #00af00\">18</span>)                  │              <span style=\"color: #00af00; text-decoration-color: #00af00\">72</span> │\n",
              "├──────────────────────────────────────┼─────────────────────────────┼─────────────────┤\n",
              "│ dense_16 (<span style=\"color: #0087ff; text-decoration-color: #0087ff\">Dense</span>)                     │ (<span style=\"color: #00d7ff; text-decoration-color: #00d7ff\">None</span>, <span style=\"color: #00af00; text-decoration-color: #00af00\">14</span>)                  │             <span style=\"color: #00af00; text-decoration-color: #00af00\">266</span> │\n",
              "├──────────────────────────────────────┼─────────────────────────────┼─────────────────┤\n",
              "│ dense_17 (<span style=\"color: #0087ff; text-decoration-color: #0087ff\">Dense</span>)                     │ (<span style=\"color: #00d7ff; text-decoration-color: #00d7ff\">None</span>, <span style=\"color: #00af00; text-decoration-color: #00af00\">1</span>)                   │              <span style=\"color: #00af00; text-decoration-color: #00af00\">15</span> │\n",
              "└──────────────────────────────────────┴─────────────────────────────┴─────────────────┘\n",
              "</pre>\n"
            ]
          },
          "metadata": {}
        },
        {
          "output_type": "display_data",
          "data": {
            "text/plain": [
              "\u001b[1m Total params: \u001b[0m\u001b[38;5;34m353\u001b[0m (1.38 KB)\n"
            ],
            "text/html": [
              "<pre style=\"white-space:pre;overflow-x:auto;line-height:normal;font-family:Menlo,'DejaVu Sans Mono',consolas,'Courier New',monospace\"><span style=\"font-weight: bold\"> Total params: </span><span style=\"color: #00af00; text-decoration-color: #00af00\">353</span> (1.38 KB)\n",
              "</pre>\n"
            ]
          },
          "metadata": {}
        },
        {
          "output_type": "display_data",
          "data": {
            "text/plain": [
              "\u001b[1m Trainable params: \u001b[0m\u001b[38;5;34m353\u001b[0m (1.38 KB)\n"
            ],
            "text/html": [
              "<pre style=\"white-space:pre;overflow-x:auto;line-height:normal;font-family:Menlo,'DejaVu Sans Mono',consolas,'Courier New',monospace\"><span style=\"font-weight: bold\"> Trainable params: </span><span style=\"color: #00af00; text-decoration-color: #00af00\">353</span> (1.38 KB)\n",
              "</pre>\n"
            ]
          },
          "metadata": {}
        },
        {
          "output_type": "display_data",
          "data": {
            "text/plain": [
              "\u001b[1m Non-trainable params: \u001b[0m\u001b[38;5;34m0\u001b[0m (0.00 B)\n"
            ],
            "text/html": [
              "<pre style=\"white-space:pre;overflow-x:auto;line-height:normal;font-family:Menlo,'DejaVu Sans Mono',consolas,'Courier New',monospace\"><span style=\"font-weight: bold\"> Non-trainable params: </span><span style=\"color: #00af00; text-decoration-color: #00af00\">0</span> (0.00 B)\n",
              "</pre>\n"
            ]
          },
          "metadata": {}
        },
        {
          "output_type": "stream",
          "name": "stdout",
          "text": [
            "None\n"
          ]
        },
        {
          "output_type": "stream",
          "name": "stderr",
          "text": [
            "WARNING:tensorflow:6 out of the last 6 calls to <function TensorFlowTrainer.make_test_function.<locals>.one_step_on_iterator at 0x78fc00bb3250> triggered tf.function retracing. Tracing is expensive and the excessive number of tracings could be due to (1) creating @tf.function repeatedly in a loop, (2) passing tensors with different shapes, (3) passing Python objects instead of tensors. For (1), please define your @tf.function outside of the loop. For (2), @tf.function has reduce_retracing=True option that can avoid unnecessary retracing. For (3), please refer to https://www.tensorflow.org/guide/function#controlling_retracing and https://www.tensorflow.org/api_docs/python/tf/function for  more details.\n"
          ]
        }
      ]
    },
    {
      "cell_type": "markdown",
      "source": [
        "Here, we are calculating the average accuracy of the model across all folds in the cross-validation process. The np.mean(fold_accuracies) function computes the mean of the accuracy values stored in the fold_accuracies list, which contains the accuracy of the model for each fold.\n",
        "\n",
        "The print() statement outputs the average accuracy, formatted to four decimal places. This final metric provides an overall performance measure of the model after it has been evaluated on different subsets of the data.\n",
        "\n",
        "Calculating the average accuracy across all folds is crucial for understanding the model’s overall effectiveness. It mitigates any bias that might arise from using a single train-test split and gives a more reliable estimate of the model's generalization ability. If the average accuracy is high, it suggests the model is performing well on different subsets of data, whereas a low average indicates that the model may not generalize effectively and may require adjustments."
      ],
      "metadata": {
        "id": "UTmXsJsDY3DU"
      }
    },
    {
      "cell_type": "code",
      "source": [
        "# Calculate and print the average accuracy across all folds\n",
        "average_accuracy = np.mean(fold_accuracies)\n",
        "print(f'Average accuracy across {k} folds: {average_accuracy:.4f}')"
      ],
      "metadata": {
        "colab": {
          "base_uri": "https://localhost:8080/"
        },
        "collapsed": true,
        "id": "pbxP40l9Y4ur",
        "outputId": "2edc44a9-29fd-4909-cd68-1e9ebc166c2d"
      },
      "execution_count": 11,
      "outputs": [
        {
          "output_type": "stream",
          "name": "stdout",
          "text": [
            "Average accuracy across 5 folds: 0.6077\n"
          ]
        }
      ]
    },
    {
      "cell_type": "markdown",
      "source": [
        "This section of the code is responsible for saving the trained model for future use.\n",
        "\n",
        "1. `model.save_weights(\"trained_weights.weights.h5\")`: This line saves only the weights of the model to the file `trained_weights.weights.h5`. Weights represent the learned parameters of the model, and saving them allows you to reload the model's state later without needing to retrain it from scratch. However, since this command saves only the weights, the model architecture (layers, activation functions, etc.) must be redefined when loading the weights for the model to work properly.\n",
        "\n",
        "2. `model.save(\"trained_model.keras\")`: This line saves both the architecture and the weights of the model together in a single file (`trained_model.keras`). By saving the entire model, you can later load it without needing to redefine the architecture explicitly. This makes it easier to deploy the model or use it in different environments, as the model can be fully restored from the saved file, including both the learned parameters and the structure."
      ],
      "metadata": {
        "id": "Nia3ILUdrH0X"
      }
    },
    {
      "cell_type": "code",
      "source": [
        "# save the weights - Note save_weights only saves the weights of the model. You will need to define your model architecture before loading the weights.\n",
        "model.save_weights(\"trained_weights.weights.h5\")\n",
        "\n",
        "# save the whole model (architecture and weights)\n",
        "model.save(\"trained_model.keras\")"
      ],
      "metadata": {
        "id": "WbHLJiqFrKFp"
      },
      "execution_count": 12,
      "outputs": []
    },
    {
      "cell_type": "markdown",
      "source": [
        "This section of the code is used to load the trained model and use it for making predictions on new data. First, the trained model is loaded from the file `\"trained_model.keras\"` using `keras.models.load_model()`. This restores both the model architecture and its trained weights, allowing the model to be used without the need for retraining. Next, the prediction data is loaded from the CSV file `\"prediction.csv\"` using `pd.read_csv()`. The relevant features, `GD@15`, `CSD@15`, and `XPD@15`, are extracted from this data into `X_pred`, which will be used for predictions. The actual \"Win rate\" values are also extracted into `actual_win_rate` for comparison against the model's predictions.\n",
        "\n",
        "Once the features are ready, the model predicts the win probability for each data point by passing `X_pred` through the `model.predict()` function. This produces a probability score between 0 and 1 for each instance, representing the likelihood of a win. The predictions are then converted into binary outcomes by setting a threshold of 0.6; if the probability exceeds this threshold, the prediction is classified as a \"win\" (1), otherwise it is classified as \"no win\" (0).\n",
        "\n",
        "Finally, the actual win rate, predicted probability, and binary predictions are displayed for each data point in the dataset using a loop. This allows for a direct comparison between the model's predictions and the actual outcomes, providing insight into how well the model is performing on this new data. By showing both the predicted probabilities and the final binary classifications, the code also allows for an evaluation of the model's confidence in its predictions."
      ],
      "metadata": {
        "id": "9a_2-gGwu83K"
      }
    },
    {
      "cell_type": "code",
      "source": [
        "# Load the trained model\n",
        "model = keras.models.load_model(\"trained_model.keras\")\n",
        "\n",
        "# Load the prediction data from the CSV file\n",
        "prediction_data_path = '//content//prediction.csv'\n",
        "prediction_data = pd.read_csv(prediction_data_path)\n",
        "\n",
        "# Extract the features and the actual \"Win rate\" for comparison\n",
        "X_pred = prediction_data[['GD@15', 'CSD@15', 'XPD@15']]\n",
        "actual_win_rate = prediction_data['Win rate']  # Assuming \"Win rate\" column is present\n",
        "\n",
        "# Make predictions\n",
        "predictions = model.predict(X_pred)\n",
        "\n",
        "# Convert probabilities to binary predictions (e.g., threshold of 0.6)\n",
        "binary_predictions = (predictions > 0.6).astype(int)\n",
        "\n",
        "# Display actual win rates and model predictions\n",
        "for i in range(len(X_pred)):\n",
        "    print(\"Actual Win Rate:\", actual_win_rate[i])\n",
        "    print(\"Predicted Probability of Win:\", predictions[i][0])  # Probability of Win\n",
        "    print(\"Model Prediction (Win=1/No Win=0):\", binary_predictions[i][0])  # Binary prediction\n",
        "    print(\"\\n\")"
      ],
      "metadata": {
        "colab": {
          "base_uri": "https://localhost:8080/"
        },
        "collapsed": true,
        "id": "Uqmhpro0TOQR",
        "outputId": "d5ded86b-99a4-472c-f98c-abd0555a0289"
      },
      "execution_count": 13,
      "outputs": [
        {
          "output_type": "stream",
          "name": "stdout",
          "text": [
            "\u001b[1m1/1\u001b[0m \u001b[32m━━━━━━━━━━━━━━━━━━━━\u001b[0m\u001b[37m\u001b[0m \u001b[1m0s\u001b[0m 52ms/step\n",
            "Actual Win Rate: 0.5\n",
            "Predicted Probability of Win: 0.00038116798\n",
            "Model Prediction (Win=1/No Win=0): 0\n",
            "\n",
            "\n",
            "Actual Win Rate: 0.375\n",
            "Predicted Probability of Win: 0.3522403\n",
            "Model Prediction (Win=1/No Win=0): 0\n",
            "\n",
            "\n",
            "Actual Win Rate: 0.5\n",
            "Predicted Probability of Win: 0.9991787\n",
            "Model Prediction (Win=1/No Win=0): 1\n",
            "\n",
            "\n",
            "Actual Win Rate: 0.875\n",
            "Predicted Probability of Win: 0.9035286\n",
            "Model Prediction (Win=1/No Win=0): 1\n",
            "\n",
            "\n",
            "Actual Win Rate: 0.625\n",
            "Predicted Probability of Win: 0.90840214\n",
            "Model Prediction (Win=1/No Win=0): 1\n",
            "\n",
            "\n"
          ]
        }
      ]
    },
    {
      "cell_type": "markdown",
      "source": [
        "The attached documents include the various configurations of neuron counts per layer that were experimented with to achieve more optimal results, the base training dataset, and a dataset used to evaluate the model's predictions.\n",
        "\n",
        "# Remarks for ANN\n",
        "Considering the small sample size of the training data, which consists of fewer than 100 samples, it is not surprising that the model consistently achieves an accuracy between 50-68%. The limited dataset size likely hinders the model’s ability to effectively capture complex patterns and generalize to unseen data. Small datasets increase the risk of both overfitting and underfitting, as the model may memorize the limited examples it is trained on or fail to learn robust representations from insufficient data.\n",
        "\n",
        "Additionally, the small sample size results in less variation in the training data, which may prevent the neural network from adequately learning the relationships between the input features (GD@15, CSD@15, and XPD@15) and the target outcome (win/loss). While cross-validation helps mitigate some of these challenges, the model still struggles to improve its predictive accuracy due to the scarcity of meaningful data points.\n",
        "\n",
        "In this scenario, I opted not to perform extensive data preprocessing, such as normalization or feature engineering, as the dataset is relatively simple and the features are already in a form that is directly interpretable by the model. Given the nature of the features, such as gold and experience differences at specific points in the game, significant preprocessing was deemed unnecessary.\n",
        "\n",
        "However, further improvements in accuracy may require augmenting the dataset with more player statistics, possibly by incorporating data from different tournament games or seasons, or using synthetic data generation techniques. Alternatively, a more complex architecture with additional layers and neurons may not yield significant improvements without sufficient data, as the model could become overly sensitive to noise. Thus, increasing the dataset size would likely be a more effective strategy to improve the model's performance."
      ],
      "metadata": {
        "id": "aFW6s2N32ooY"
      }
    },
    {
      "cell_type": "markdown",
      "source": [
        "# Discussion Between Different Neural Networks\n",
        "\n",
        "For the task of predicting a player's likelihood of winning based on in-game statistics (GD@15, CSD@15, and XPD@15), different deep learning architectures could be considered. This segment compares the **Fully Connected Feedforward Neural Network (FNN)**, with **Convolutional Neural Networks (CNNs)** and **Recurrent Neural Networks (RNNs)** to evaluate their relevance and performance for this task.\n",
        "\n",
        "### Fully Connected Feedforward Neural Network (FNN)\n",
        "The **Fully Connected Feedforward Neural Network (FNN)** is ideal for this classification problem because it is specifically designed for tabular, structured data like the one provided in the dataset. FNNs work by passing the input features through multiple layers of neurons, where each neuron is connected to all the neurons in the previous and next layers. This structure allows the model to learn complex interactions between the input features, making it suitable for predicting outcomes based on player statistics. In the context of this problem, the FNN can effectively capture the relationships between the features (GD@15, CSD@15, XPD@15) and the target variable, which indicates whether the player is likely to win the game.\n",
        "\n",
        "Given that the dataset is relatively small, FNNs are an appropriate choice because they tend to perform well with smaller datasets, provided proper regularization techniques (like dropout) are used. The use of 5-fold cross-validation in the code also helps mitigate the risk of overfitting by providing an estimate of model performance across multiple data splits.\n",
        "\n",
        "### Convolutional Neural Networks (CNNs)\n",
        "**Convolutional Neural Networks (CNNs)** are typically used for image data or other types of data with a spatial structure. CNNs operate by applying convolutional filters that detect local patterns in the data, which are then combined in deeper layers to form more complex features. This process is highly effective for tasks like image classification, where the data consists of pixels arranged in a grid and the relationships between neighboring pixels are important.\n",
        "\n",
        "However, CNNs are not suitable for this problem, as the dataset consists of tabular data rather than spatial or image-like data. The features (GD@15, CSD@15, XPD@15) do not have spatial relationships that CNNs are designed to exploit. Therefore, using CNNs would be an inefficient approach for this problem, adding unnecessary complexity without improving the model’s ability to predict the win probability.\n",
        "\n",
        "### Recurrent Neural Networks (RNNs)\n",
        "**Recurrent Neural Networks (RNNs)** are designed for sequential data, where the order of the data points is critical. RNNs have an internal loop that allows them to maintain a memory of past inputs, which makes them ideal for tasks involving time-series data, such as speech recognition, language modeling, and stock price prediction.\n",
        "\n",
        "In contrast, the data in this problem does not have sequential dependencies. The statistics for GD@15, CSD@15, and XPD@15 are independent of each other and represent a snapshot of the game at a specific moment in time. Because RNNs are primarily beneficial for sequential data where past information influences future predictions, they would not be the best choice for this problem. Additionally, due to the small dataset size, using RNNs would likely lead to overfitting and unnecessarily complicate the model.\n",
        "\n",
        "### Conclusion\n",
        "The **Fully Connected Feedforward Neural Network (FNN)** is the most suitable architecture for this task. It is specifically designed to handle tabular data and works well for classification problems with independent features, such as predicting a player's win probability based on in-game statistics. On the other hand, **Convolutional Neural Networks (CNNs)** and **Recurrent Neural Networks (RNNs)** are not appropriate for this problem. CNNs are better suited for spatial data, while RNNs are designed for sequential data. Given the small size of the dataset, the FNN provides a simpler and more effective solution without the risk of overfitting that might occur with more complex models like CNNs or RNNs."
      ],
      "metadata": {
        "id": "E3_HDzMJ3CVC"
      }
    }
  ]
}